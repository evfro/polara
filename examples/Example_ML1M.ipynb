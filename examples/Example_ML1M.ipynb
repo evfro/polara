{
 "cells": [
  {
   "cell_type": "markdown",
   "metadata": {},
   "source": [
    "# Table of Contents\n",
    "\n",
    "* [Initialization](#Initialization)\n",
    "\t* [Constants](#Constants)\n",
    "\t\t* [Dataset](#Dataset)\n",
    "\t\t* [MyMediaLite](#MyMediaLite)\n",
    "\t\t* [Experiments](#Experiments)\n",
    "\t\t* [Viz](#Viz)\n",
    "\t* [Prepare data](#Prepare-data)\n",
    "\t* [Prepare models](#Prepare-models)\n",
    "\t* [Set evaluation parameters](#Set-evaluation-parameters)\n",
    "* [Run experiments](#Run-experiments)\n",
    "* [Visualize results](#Visualize-results)\n",
    "\t* [Predictions from single negative feedback](#Predictions-from-single-negative-feedback)\n",
    "\t* [Predictions for \"known\" user](#Predictions-for-\"known\"-user)"
   ]
  },
  {
   "cell_type": "code",
   "execution_count": 1,
   "metadata": {
    "ExecuteTime": {
     "end_time": "2017-01-19T00:18:07.398000",
     "start_time": "2017-01-19T00:18:06.440000"
    }
   },
   "outputs": [],
   "source": [
    "import sys\n",
    "\n",
    "import numpy as np\n",
    "import pandas as pd\n",
    "import matplotlib as mpl\n",
    "import matplotlib.pyplot as plt\n",
    "%matplotlib inline\n",
    "\n",
    "from polara.recommender.data import RecommenderData\n",
    "from polara.recommender.models import SVDModel, CoffeeModel, PopularityModel, RandomModel\n",
    "from polara.evaluation import evaluation_engine as ee\n",
    "from polara.recommender.external.mymedialite.mmlwrapper import MyMediaLiteWrapper\n",
    "from polara.datasets.movielens import get_movielens_data\n",
    "from polara.tools.preprocessing import filter_sessions_by_length\n",
    "from polara.evaluation.plotting import show_hit_rates, show_precision_recall, show_ranking"
   ]
  },
  {
   "cell_type": "markdown",
   "metadata": {},
   "source": [
    "# Initialization"
   ]
  },
  {
   "cell_type": "markdown",
   "metadata": {},
   "source": [
    "## Constants"
   ]
  },
  {
   "cell_type": "markdown",
   "metadata": {},
   "source": [
    "### Dataset"
   ]
  },
  {
   "cell_type": "code",
   "execution_count": 2,
   "metadata": {
    "ExecuteTime": {
     "end_time": "2017-01-19T00:18:09.900000",
     "start_time": "2017-01-19T00:18:09.895000"
    }
   },
   "outputs": [],
   "source": [
    "DATA_NAME = 'ml-1m'\n",
    "DATA_FILE = None # '<path-to-zip-file>/{}.zip'.format(DATA_NAME)#path to Movielens-1M zip-file\n",
    "                                      #set it to None to automatically download data from Grouplens\n",
    "SESS_SIZE = 20"
   ]
  },
  {
   "cell_type": "markdown",
   "metadata": {},
   "source": [
    "### MyMediaLite"
   ]
  },
  {
   "cell_type": "code",
   "execution_count": 3,
   "metadata": {
    "ExecuteTime": {
     "end_time": "2017-01-19T00:18:10.726000",
     "start_time": "2017-01-19T00:18:10.721000"
    }
   },
   "outputs": [],
   "source": [
    "#set path to MyMediaLite binaries\n",
    "if sys.platform == 'win32':\n",
    "    LIB_PATH = 'MyMediaLite-3.11/lib/mymedialite' \n",
    "else:\n",
    "    LIB_PATH = 'MyMediaLite-3.11/bin'\n",
    "\n",
    "MML_DATA = 'MyMediaLiteData' #folder to store MyMediLite data (models, data mappings, etc.)\n",
    "                             # the folder must exist!"
   ]
  },
  {
   "cell_type": "markdown",
   "metadata": {},
   "source": [
    "## Prepare data"
   ]
  },
  {
   "cell_type": "code",
   "execution_count": 4,
   "metadata": {
    "ExecuteTime": {
     "end_time": "2017-01-19T00:18:14.527000",
     "start_time": "2017-01-19T00:18:13.948000"
    }
   },
   "outputs": [],
   "source": [
    "ml_data = get_movielens_data(local_file=DATA_FILE, get_genres=False)"
   ]
  },
  {
   "cell_type": "code",
   "execution_count": 5,
   "metadata": {
    "ExecuteTime": {
     "end_time": "2017-01-19T00:18:16.284000",
     "start_time": "2017-01-19T00:18:15.954000"
    }
   },
   "outputs": [],
   "source": [
    "ml_data = filter_sessions_by_length(ml_data)\n",
    "data_model = RecommenderData(ml_data, 'userid', 'movieid', 'rating')\n",
    "data_model.name = DATA_NAME\n",
    "data_model.seed = 0"
   ]
  },
  {
   "cell_type": "code",
   "execution_count": 6,
   "metadata": {},
   "outputs": [
    {
     "data": {
      "text/plain": [
       "{'test_sample': None,\n",
       " 'test_ratio': 0.2,\n",
       " 'test_fold': 5,\n",
       " 'warm_start': True,\n",
       " 'holdout_size': 3,\n",
       " 'shuffle_data': False,\n",
       " 'negative_prediction': False,\n",
       " 'random_holdout': False,\n",
       " 'permute_tops': False}"
      ]
     },
     "execution_count": 6,
     "metadata": {},
     "output_type": "execute_result"
    }
   ],
   "source": [
    "data_model.get_configuration()"
   ]
  },
  {
   "cell_type": "markdown",
   "metadata": {},
   "source": [
    "## Prepare models"
   ]
  },
  {
   "cell_type": "code",
   "execution_count": 7,
   "metadata": {
    "ExecuteTime": {
     "end_time": "2017-01-19T00:18:20.954000",
     "start_time": "2017-01-19T00:18:20.950000"
    }
   },
   "outputs": [],
   "source": [
    "# bpr = MyMediaLiteWrapper(LIB_PATH, MML_DATA, 'BPRMF', data_model)\n",
    "# wrmf = MyMediaLiteWrapper(LIB_PATH, MML_DATA, 'WRMF', data_model)\n",
    "svd = SVDModel(data_model)\n",
    "popular = PopularityModel(data_model)\n",
    "random = RandomModel(data_model, seed=0)\n",
    "coffee = CoffeeModel(data_model)"
   ]
  },
  {
   "cell_type": "code",
   "execution_count": 8,
   "metadata": {
    "ExecuteTime": {
     "end_time": "2017-01-19T00:19:37.710000",
     "start_time": "2017-01-19T00:19:37.707000"
    }
   },
   "outputs": [],
   "source": [
    "coffee.flattener = [3, 4] # ratings 4 and 5"
   ]
  },
  {
   "cell_type": "code",
   "execution_count": 9,
   "metadata": {
    "ExecuteTime": {
     "end_time": "2017-01-19T00:19:40.427000",
     "start_time": "2017-01-19T00:19:40.419000"
    }
   },
   "outputs": [
    {
     "data": {
      "text/plain": [
       "['PureSVD', 'CoFFee', 'MP', 'RND']"
      ]
     },
     "execution_count": 9,
     "metadata": {},
     "output_type": "execute_result"
    }
   ],
   "source": [
    "models = [svd, coffee, popular, random]\n",
    "model_names = [model.method for model in models]\n",
    "metrics = ['ranking', 'relevance']\n",
    "model_names"
   ]
  },
  {
   "cell_type": "code",
   "execution_count": 10,
   "metadata": {
    "ExecuteTime": {
     "end_time": "2017-01-19T00:19:41.991000",
     "start_time": "2017-01-19T00:19:41.987000"
    }
   },
   "outputs": [],
   "source": [
    "for model in models:\n",
    "    model.switch_positive = 4"
   ]
  },
  {
   "cell_type": "code",
   "execution_count": 11,
   "metadata": {
    "ExecuteTime": {
     "end_time": "2017-01-19T00:19:42.483000",
     "start_time": "2017-01-19T00:19:42.478000"
    }
   },
   "outputs": [
    {
     "name": "stdout",
     "output_type": "stream",
     "text": [
      "PureSVD 4\n",
      "CoFFee 4\n",
      "MP 4\n",
      "RND 4\n"
     ]
    }
   ],
   "source": [
    "for model in models:\n",
    "    print(model.method, model.switch_positive)"
   ]
  },
  {
   "cell_type": "code",
   "execution_count": 12,
   "metadata": {
    "ExecuteTime": {
     "end_time": "2017-01-19T00:19:43.197000",
     "start_time": "2017-01-19T00:19:43.191000"
    }
   },
   "outputs": [
    {
     "name": "stdout",
     "output_type": "stream",
     "text": [
      "PureSVD rank: 10\n",
      "CoFFee rank: (13, 10, 2)\n"
     ]
    }
   ],
   "source": [
    "for model in models:\n",
    "    try:\n",
    "        rank = model.rank\n",
    "    except AttributeError:\n",
    "        try:\n",
    "            rank = model.mlrank\n",
    "        except AttributeError:\n",
    "            continue\n",
    "    print('{} rank: {}'.format(model.method, rank))"
   ]
  },
  {
   "cell_type": "markdown",
   "metadata": {},
   "source": [
    "## Set evaluation parameters"
   ]
  },
  {
   "cell_type": "code",
   "execution_count": 13,
   "metadata": {
    "ExecuteTime": {
     "end_time": "2017-01-19T00:19:46.148000",
     "start_time": "2017-01-19T00:19:46.143000"
    }
   },
   "outputs": [],
   "source": [
    "topk_list = [1, 2, 3, 5, 10, 15, 20, 30, 50, 70, 100]\n",
    "test_samples = [0,]\n",
    "folds = [1, 2, 3, 4, 5]"
   ]
  },
  {
   "cell_type": "code",
   "execution_count": 14,
   "metadata": {
    "ExecuteTime": {
     "end_time": "2017-01-19T00:19:51.117000",
     "start_time": "2017-01-19T00:19:51.113000"
    }
   },
   "outputs": [],
   "source": [
    "data_model.holdout_size = 10\n",
    "data_model.random_holdout = True"
   ]
  },
  {
   "cell_type": "markdown",
   "metadata": {},
   "source": [
    "# Run experiments"
   ]
  },
  {
   "cell_type": "code",
   "execution_count": 15,
   "metadata": {
    "ExecuteTime": {
     "end_time": "2017-01-19T00:19:57.864000",
     "start_time": "2017-01-19T00:19:53.526000"
    },
    "scrolled": true
   },
   "outputs": [
    {
     "name": "stdout",
     "output_type": "stream",
     "text": [
      "\n",
      "\n",
      "========= Test sample: 0 =========\n",
      "\n",
      "\n",
      "============ Fold: 1 =============\n",
      "Preparing data...\n",
      "23 unique movieid's within 27 testset interactions were filtered. Reason: not in the training data.\n",
      "1 unique movieid's within 1 holdout interactions were filtered. Reason: not in the training data.\n",
      "1 of 1208 userid's were filtered out from holdout. Reason: incompatible number of items.\n",
      "1 userid's were filtered out from testset. Reason: inconsistent with holdout.\n",
      "Done.\n",
      "There are 803312 events in the training and 12070 events in the holdout.\n",
      "PureSVD training time: 0.12501671899999778s\n",
      "CoFFee training time: 2.037544122s\n",
      "\n",
      "============ Fold: 2 =============\n",
      "Preparing data...\n",
      "47 unique movieid's within 56 testset interactions were filtered. Reason: not in the training data.\n",
      "2 unique movieid's within 2 holdout interactions were filtered. Reason: not in the training data.\n",
      "2 of 1208 userid's were filtered out from holdout. Reason: incompatible number of items.\n",
      "2 userid's were filtered out from testset. Reason: inconsistent with holdout.\n",
      "Done.\n",
      "There are 792890 events in the training and 12060 events in the holdout.\n",
      "PureSVD training time: 0.12668456699999808s\n",
      "CoFFee training time: 1.7487154350000012s\n",
      "\n",
      "============ Fold: 3 =============\n",
      "Preparing data...\n",
      "16 unique movieid's within 18 testset interactions were filtered. Reason: not in the training data.\n",
      "4 unique movieid's within 4 holdout interactions were filtered. Reason: not in the training data.\n",
      "4 of 1208 userid's were filtered out from holdout. Reason: incompatible number of items.\n",
      "4 userid's were filtered out from testset. Reason: inconsistent with holdout.\n",
      "Done.\n",
      "There are 808443 events in the training and 12040 events in the holdout.\n",
      "PureSVD training time: 0.14959791499999398s\n",
      "CoFFee training time: 1.5415090159999991s\n",
      "\n",
      "============ Fold: 4 =============\n",
      "Preparing data...\n",
      "28 unique movieid's within 39 testset interactions were filtered. Reason: not in the training data.\n",
      "2 unique movieid's within 2 holdout interactions were filtered. Reason: not in the training data.\n",
      "2 of 1208 userid's were filtered out from holdout. Reason: incompatible number of items.\n",
      "2 userid's were filtered out from testset. Reason: inconsistent with holdout.\n",
      "Done.\n",
      "There are 788733 events in the training and 12060 events in the holdout.\n",
      "PureSVD training time: 0.13269300800000394s\n",
      "CoFFee training time: 2.044441157999998s\n",
      "\n",
      "============ Fold: 5 =============\n",
      "Preparing data...\n",
      "18 unique movieid's within 25 testset interactions were filtered. Reason: not in the training data.\n",
      "2 unique movieid's within 2 holdout interactions were filtered. Reason: not in the training data.\n",
      "2 of 1208 userid's were filtered out from holdout. Reason: incompatible number of items.\n",
      "2 userid's were filtered out from testset. Reason: inconsistent with holdout.\n",
      "Done.\n",
      "There are 807458 events in the training and 12060 events in the holdout.\n",
      "PureSVD training time: 0.16364610299999782s\n",
      "CoFFee training time: 1.651566288000005s\n"
     ]
    }
   ],
   "source": [
    "result = {}\n",
    "topk_result = {}\n",
    "for test_sample in test_samples:\n",
    "    data_model.test_sample = test_sample\n",
    "    print('\\n\\n========= Test sample: {} =========\\n'.format(test_sample))\n",
    "    for fold in folds:\n",
    "        print('\\n============ Fold: {} ============='.format(fold))\n",
    "        data_model.test_fold = fold\n",
    "        topk_result[fold] = ee.topk_test(models, topk_list=topk_list, metrics=metrics)\n",
    "    result[test_sample] = ee.consolidate_folds(topk_result, folds, metrics)"
   ]
  },
  {
   "cell_type": "code",
   "execution_count": 16,
   "metadata": {
    "ExecuteTime": {
     "end_time": "2017-01-19T00:19:57.868000",
     "start_time": "2017-01-18T21:19:57.512Z"
    }
   },
   "outputs": [],
   "source": [
    "test_sample = 0"
   ]
  },
  {
   "cell_type": "code",
   "execution_count": 17,
   "metadata": {},
   "outputs": [],
   "source": [
    "scores = {}\n",
    "deviation = {}\n",
    "scores['ranking'] = result[test_sample]['ranking'].mean(axis=0, level=1)\n",
    "deviation['ranking'] = result[test_sample]['ranking'].std(axis=0, level=1)\n",
    "scores['relevance'] = result[test_sample]['relevance'].mean(axis=0, level=1)\n",
    "deviation['relevance'] = result[test_sample]['relevance'].std(axis=0, level=1)"
   ]
  },
  {
   "cell_type": "markdown",
   "metadata": {},
   "source": [
    "# Visualize results"
   ]
  },
  {
   "cell_type": "code",
   "execution_count": 18,
   "metadata": {
    "ExecuteTime": {
     "end_time": "2017-01-19T00:18:13.045000",
     "start_time": "2017-01-19T00:18:13.042000"
    }
   },
   "outputs": [],
   "source": [
    "ERR_ALPHA = 0.1"
   ]
  },
  {
   "cell_type": "markdown",
   "metadata": {},
   "source": [
    "## Predictions for \"known\" user"
   ]
  },
  {
   "cell_type": "code",
   "execution_count": 19,
   "metadata": {},
   "outputs": [
    {
     "data": {
      "image/png": "[encoded data removed]",
      "text/plain": [
       "<Figure size 576x360 with 1 Axes>"
      ]
     },
     "metadata": {
      "needs_background": "light"
     },
     "output_type": "display_data"
    }
   ],
   "source": [
    "show_hit_rates(scores, errors=deviation, err_alpha=ERR_ALPHA)"
   ]
  },
  {
   "cell_type": "code",
   "execution_count": 20,
   "metadata": {},
   "outputs": [
    {
     "data": {
      "image/png": "[encoded data removed]",
      "text/plain": [
       "<Figure size 576x360 with 1 Axes>"
      ]
     },
     "metadata": {
      "needs_background": "light"
     },
     "output_type": "display_data"
    }
   ],
   "source": [
    "show_precision_recall(scores, errors=deviation, err_alpha=ERR_ALPHA)"
   ]
  },
  {
   "cell_type": "code",
   "execution_count": 21,
   "metadata": {},
   "outputs": [
    {
     "data": {
      "text/html": [
       "<div>\n",
       "<style scoped>\n",
       "    .dataframe tbody tr th:only-of-type {\n",
       "        vertical-align: middle;\n",
       "    }\n",
       "\n",
       "    .dataframe tbody tr th {\n",
       "        vertical-align: top;\n",
       "    }\n",
       "\n",
       "    .dataframe thead tr th {\n",
       "        text-align: left;\n",
       "    }\n",
       "\n",
       "    .dataframe thead tr:last-of-type th {\n",
       "        text-align: right;\n",
       "    }\n",
       "</style>\n",
       "<table border=\"1\" class=\"dataframe\">\n",
       "  <thead>\n",
       "    <tr>\n",
       "      <th></th>\n",
       "      <th>nDCG</th>\n",
       "      <th>nDCL</th>\n",
       "      <th>nDCG</th>\n",
       "      <th>nDCL</th>\n",
       "      <th>nDCG</th>\n",
       "      <th>nDCL</th>\n",
       "      <th>nDCG</th>\n",
       "      <th>nDCL</th>\n",
       "    </tr>\n",
       "    <tr>\n",
       "      <th></th>\n",
       "      <th>PureSVD</th>\n",
       "      <th>PureSVD</th>\n",
       "      <th>CoFFee</th>\n",
       "      <th>CoFFee</th>\n",
       "      <th>MP</th>\n",
       "      <th>MP</th>\n",
       "      <th>RND</th>\n",
       "      <th>RND</th>\n",
       "    </tr>\n",
       "    <tr>\n",
       "      <th>top-n</th>\n",
       "      <th></th>\n",
       "      <th></th>\n",
       "      <th></th>\n",
       "      <th></th>\n",
       "      <th></th>\n",
       "      <th></th>\n",
       "      <th></th>\n",
       "      <th></th>\n",
       "    </tr>\n",
       "  </thead>\n",
       "  <tbody>\n",
       "    <tr>\n",
       "      <th>1</th>\n",
       "      <td>0.077220</td>\n",
       "      <td>0.026973</td>\n",
       "      <td>0.068956</td>\n",
       "      <td>0.021915</td>\n",
       "      <td>0.034049</td>\n",
       "      <td>0.021976</td>\n",
       "      <td>0.000634</td>\n",
       "      <td>0.000784</td>\n",
       "    </tr>\n",
       "    <tr>\n",
       "      <th>2</th>\n",
       "      <td>0.111342</td>\n",
       "      <td>0.040239</td>\n",
       "      <td>0.097664</td>\n",
       "      <td>0.031738</td>\n",
       "      <td>0.049284</td>\n",
       "      <td>0.031109</td>\n",
       "      <td>0.000916</td>\n",
       "      <td>0.001082</td>\n",
       "    </tr>\n",
       "    <tr>\n",
       "      <th>3</th>\n",
       "      <td>0.132601</td>\n",
       "      <td>0.051971</td>\n",
       "      <td>0.117211</td>\n",
       "      <td>0.039983</td>\n",
       "      <td>0.057795</td>\n",
       "      <td>0.037549</td>\n",
       "      <td>0.001173</td>\n",
       "      <td>0.002105</td>\n",
       "    </tr>\n",
       "    <tr>\n",
       "      <th>5</th>\n",
       "      <td>0.159641</td>\n",
       "      <td>0.069481</td>\n",
       "      <td>0.143106</td>\n",
       "      <td>0.052061</td>\n",
       "      <td>0.070335</td>\n",
       "      <td>0.048499</td>\n",
       "      <td>0.001482</td>\n",
       "      <td>0.002633</td>\n",
       "    </tr>\n",
       "    <tr>\n",
       "      <th>10</th>\n",
       "      <td>0.197528</td>\n",
       "      <td>0.101178</td>\n",
       "      <td>0.178744</td>\n",
       "      <td>0.074010</td>\n",
       "      <td>0.091356</td>\n",
       "      <td>0.064922</td>\n",
       "      <td>0.002213</td>\n",
       "      <td>0.003952</td>\n",
       "    </tr>\n",
       "    <tr>\n",
       "      <th>15</th>\n",
       "      <td>0.219348</td>\n",
       "      <td>0.122217</td>\n",
       "      <td>0.199522</td>\n",
       "      <td>0.091090</td>\n",
       "      <td>0.105611</td>\n",
       "      <td>0.077387</td>\n",
       "      <td>0.002858</td>\n",
       "      <td>0.005341</td>\n",
       "    </tr>\n",
       "    <tr>\n",
       "      <th>20</th>\n",
       "      <td>0.234971</td>\n",
       "      <td>0.139544</td>\n",
       "      <td>0.214338</td>\n",
       "      <td>0.104965</td>\n",
       "      <td>0.116623</td>\n",
       "      <td>0.086674</td>\n",
       "      <td>0.003418</td>\n",
       "      <td>0.006163</td>\n",
       "    </tr>\n",
       "    <tr>\n",
       "      <th>30</th>\n",
       "      <td>0.256997</td>\n",
       "      <td>0.166981</td>\n",
       "      <td>0.236168</td>\n",
       "      <td>0.128092</td>\n",
       "      <td>0.130844</td>\n",
       "      <td>0.101282</td>\n",
       "      <td>0.004523</td>\n",
       "      <td>0.008114</td>\n",
       "    </tr>\n",
       "    <tr>\n",
       "      <th>50</th>\n",
       "      <td>0.284766</td>\n",
       "      <td>0.205027</td>\n",
       "      <td>0.263348</td>\n",
       "      <td>0.160940</td>\n",
       "      <td>0.151501</td>\n",
       "      <td>0.125126</td>\n",
       "      <td>0.006249</td>\n",
       "      <td>0.010956</td>\n",
       "    </tr>\n",
       "    <tr>\n",
       "      <th>70</th>\n",
       "      <td>0.302296</td>\n",
       "      <td>0.230614</td>\n",
       "      <td>0.280594</td>\n",
       "      <td>0.183953</td>\n",
       "      <td>0.164905</td>\n",
       "      <td>0.143222</td>\n",
       "      <td>0.007974</td>\n",
       "      <td>0.014620</td>\n",
       "    </tr>\n",
       "    <tr>\n",
       "      <th>100</th>\n",
       "      <td>0.319825</td>\n",
       "      <td>0.262407</td>\n",
       "      <td>0.297933</td>\n",
       "      <td>0.210589</td>\n",
       "      <td>0.180364</td>\n",
       "      <td>0.165874</td>\n",
       "      <td>0.010169</td>\n",
       "      <td>0.019029</td>\n",
       "    </tr>\n",
       "  </tbody>\n",
       "</table>\n",
       "</div>"
      ],
      "text/plain": [
       "           nDCG      nDCL      nDCG      nDCL      nDCG      nDCL      nDCG  \\\n",
       "        PureSVD   PureSVD    CoFFee    CoFFee        MP        MP       RND   \n",
       "top-n                                                                         \n",
       "1      0.077220  0.026973  0.068956  0.021915  0.034049  0.021976  0.000634   \n",
       "2      0.111342  0.040239  0.097664  0.031738  0.049284  0.031109  0.000916   \n",
       "3      0.132601  0.051971  0.117211  0.039983  0.057795  0.037549  0.001173   \n",
       "5      0.159641  0.069481  0.143106  0.052061  0.070335  0.048499  0.001482   \n",
       "10     0.197528  0.101178  0.178744  0.074010  0.091356  0.064922  0.002213   \n",
       "15     0.219348  0.122217  0.199522  0.091090  0.105611  0.077387  0.002858   \n",
       "20     0.234971  0.139544  0.214338  0.104965  0.116623  0.086674  0.003418   \n",
       "30     0.256997  0.166981  0.236168  0.128092  0.130844  0.101282  0.004523   \n",
       "50     0.284766  0.205027  0.263348  0.160940  0.151501  0.125126  0.006249   \n",
       "70     0.302296  0.230614  0.280594  0.183953  0.164905  0.143222  0.007974   \n",
       "100    0.319825  0.262407  0.297933  0.210589  0.180364  0.165874  0.010169   \n",
       "\n",
       "           nDCL  \n",
       "            RND  \n",
       "top-n            \n",
       "1      0.000784  \n",
       "2      0.001082  \n",
       "3      0.002105  \n",
       "5      0.002633  \n",
       "10     0.003952  \n",
       "15     0.005341  \n",
       "20     0.006163  \n",
       "30     0.008114  \n",
       "50     0.010956  \n",
       "70     0.014620  \n",
       "100    0.019029  "
      ]
     },
     "execution_count": 21,
     "metadata": {},
     "output_type": "execute_result"
    }
   ],
   "source": [
    "scores['ranking']"
   ]
  },
  {
   "cell_type": "code",
   "execution_count": 22,
   "metadata": {},
   "outputs": [
    {
     "data": {
      "image/png": "[encoded data removed]",
      "text/plain": [
       "<Figure size 1152x360 with 2 Axes>"
      ]
     },
     "metadata": {
      "needs_background": "light"
     },
     "output_type": "display_data"
    }
   ],
   "source": [
    "show_ranking(scores, errors=deviation, err_alpha=ERR_ALPHA)"
   ]
  },
  {
   "cell_type": "markdown",
   "metadata": {},
   "source": [
    "## Predictions from single negative feedback"
   ]
  },
  {
   "cell_type": "code",
   "execution_count": 23,
   "metadata": {},
   "outputs": [],
   "source": [
    "test_sample = -1"
   ]
  },
  {
   "cell_type": "code",
   "execution_count": 24,
   "metadata": {},
   "outputs": [
    {
     "ename": "KeyError",
     "evalue": "-1",
     "output_type": "error",
     "traceback": [
      "\u001b[0;31m---------------------------------------------------------------------------\u001b[0m",
      "\u001b[0;31mKeyError\u001b[0m                                  Traceback (most recent call last)",
      "\u001b[0;32m<ipython-input-24-8964e33aaf53>\u001b[0m in \u001b[0;36m<module>\u001b[0;34m\u001b[0m\n\u001b[1;32m      1\u001b[0m \u001b[0mscores\u001b[0m \u001b[0;34m=\u001b[0m \u001b[0;34m{\u001b[0m\u001b[0;34m}\u001b[0m\u001b[0;34m\u001b[0m\u001b[0;34m\u001b[0m\u001b[0m\n\u001b[1;32m      2\u001b[0m \u001b[0mdeviation\u001b[0m \u001b[0;34m=\u001b[0m \u001b[0;34m{\u001b[0m\u001b[0;34m}\u001b[0m\u001b[0;34m\u001b[0m\u001b[0;34m\u001b[0m\u001b[0m\n\u001b[0;32m----> 3\u001b[0;31m \u001b[0mscores\u001b[0m\u001b[0;34m[\u001b[0m\u001b[0;34m'ranking'\u001b[0m\u001b[0;34m]\u001b[0m \u001b[0;34m=\u001b[0m \u001b[0mresult\u001b[0m\u001b[0;34m[\u001b[0m\u001b[0mtest_sample\u001b[0m\u001b[0;34m]\u001b[0m\u001b[0;34m[\u001b[0m\u001b[0;34m'ranking'\u001b[0m\u001b[0;34m]\u001b[0m\u001b[0;34m.\u001b[0m\u001b[0mmean\u001b[0m\u001b[0;34m(\u001b[0m\u001b[0maxis\u001b[0m\u001b[0;34m=\u001b[0m\u001b[0;36m0\u001b[0m\u001b[0;34m,\u001b[0m \u001b[0mlevel\u001b[0m\u001b[0;34m=\u001b[0m\u001b[0;36m1\u001b[0m\u001b[0;34m)\u001b[0m\u001b[0;34m\u001b[0m\u001b[0;34m\u001b[0m\u001b[0m\n\u001b[0m\u001b[1;32m      4\u001b[0m \u001b[0mdeviation\u001b[0m\u001b[0;34m[\u001b[0m\u001b[0;34m'ranking'\u001b[0m\u001b[0;34m]\u001b[0m \u001b[0;34m=\u001b[0m \u001b[0mresult\u001b[0m\u001b[0;34m[\u001b[0m\u001b[0mtest_sample\u001b[0m\u001b[0;34m]\u001b[0m\u001b[0;34m[\u001b[0m\u001b[0;34m'ranking'\u001b[0m\u001b[0;34m]\u001b[0m\u001b[0;34m.\u001b[0m\u001b[0mstd\u001b[0m\u001b[0;34m(\u001b[0m\u001b[0maxis\u001b[0m\u001b[0;34m=\u001b[0m\u001b[0;36m0\u001b[0m\u001b[0;34m,\u001b[0m \u001b[0mlevel\u001b[0m\u001b[0;34m=\u001b[0m\u001b[0;36m1\u001b[0m\u001b[0;34m)\u001b[0m\u001b[0;34m\u001b[0m\u001b[0;34m\u001b[0m\u001b[0m\n\u001b[1;32m      5\u001b[0m \u001b[0mscores\u001b[0m\u001b[0;34m[\u001b[0m\u001b[0;34m'relevance'\u001b[0m\u001b[0;34m]\u001b[0m \u001b[0;34m=\u001b[0m \u001b[0mresult\u001b[0m\u001b[0;34m[\u001b[0m\u001b[0mtest_sample\u001b[0m\u001b[0;34m]\u001b[0m\u001b[0;34m[\u001b[0m\u001b[0;34m'relevance'\u001b[0m\u001b[0;34m]\u001b[0m\u001b[0;34m.\u001b[0m\u001b[0mmean\u001b[0m\u001b[0;34m(\u001b[0m\u001b[0maxis\u001b[0m\u001b[0;34m=\u001b[0m\u001b[0;36m0\u001b[0m\u001b[0;34m,\u001b[0m \u001b[0mlevel\u001b[0m\u001b[0;34m=\u001b[0m\u001b[0;36m1\u001b[0m\u001b[0;34m)\u001b[0m\u001b[0;34m\u001b[0m\u001b[0;34m\u001b[0m\u001b[0m\n",
      "\u001b[0;31mKeyError\u001b[0m: -1"
     ]
    }
   ],
   "source": [
    "scores = {}\n",
    "deviation = {}\n",
    "scores['ranking'] = result[test_sample]['ranking'].mean(axis=0, level=1)\n",
    "deviation['ranking'] = result[test_sample]['ranking'].std(axis=0, level=1)\n",
    "scores['relevance'] = result[test_sample]['relevance'].mean(axis=0, level=1)\n",
    "deviation['relevance'] = result[test_sample]['relevance'].std(axis=0, level=1)"
   ]
  },
  {
   "cell_type": "code",
   "execution_count": null,
   "metadata": {},
   "outputs": [],
   "source": [
    "show_hit_rates(scores, errors=deviation, err_alpha=ERR_ALPHA)"
   ]
  },
  {
   "cell_type": "code",
   "execution_count": null,
   "metadata": {},
   "outputs": [],
   "source": [
    "show_precision_recall(scores, errors=deviation, err_alpha=ERR_ALPHA)"
   ]
  },
  {
   "cell_type": "code",
   "execution_count": null,
   "metadata": {},
   "outputs": [],
   "source": [
    "show_ranking(scores, errors=deviation, err_alpha=ERR_ALPHA)"
   ]
  }
 ],
 "metadata": {
  "kernelspec": {
   "display_name": "Python 3",
   "language": "python",
   "name": "python3"
  },
  "language_info": {
   "codemirror_mode": {
    "name": "ipython",
    "version": 3
   },
   "file_extension": ".py",
   "mimetype": "text/x-python",
   "name": "python",
   "nbconvert_exporter": "python",
   "pygments_lexer": "ipython3",
   "version": "3.7.1"
  },
  "toc": {
   "nav_menu": {},
   "number_sections": true,
   "sideBar": true,
   "skip_h1_title": false,
   "title_cell": "Table of Contents",
   "title_sidebar": "Contents",
   "toc_cell": false,
   "toc_position": {},
   "toc_section_display": "block",
   "toc_window_display": false
  }
 },
 "nbformat": 4,
 "nbformat_minor": 1
}
