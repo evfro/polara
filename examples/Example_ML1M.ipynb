{
 "cells": [
  {
   "cell_type": "markdown",
   "metadata": {},
   "source": [
    "# Table of Contents\n",
    "\n",
    "* [Initialization](#Initialization)\n",
    "\t* [Constants](#Constants)\n",
    "\t\t* [Dataset](#Dataset)\n",
    "\t\t* [MyMediaLite](#MyMediaLite)\n",
    "\t\t* [Experiments](#Experiments)\n",
    "\t\t* [Viz](#Viz)\n",
    "\t* [Prepare data](#Prepare-data)\n",
    "\t* [Prepare models](#Prepare-models)\n",
    "\t* [Set evaluation parameters](#Set-evaluation-parameters)\n",
    "* [Run experiments](#Run-experiments)\n",
    "* [Visualize results](#Visualize-results)\n",
    "\t* [Predictions from single negative feedback](#Predictions-from-single-negative-feedback)\n",
    "\t* [Predictions for \"known\" user](#Predictions-for-\"known\"-user)"
   ]
  },
  {
   "cell_type": "code",
   "execution_count": 20,
   "metadata": {
    "ExecuteTime": {
     "end_time": "2017-01-19T00:18:07.398000",
     "start_time": "2017-01-19T00:18:06.440000"
    }
   },
   "outputs": [],
   "source": [
    "# python 2/3 interoperability\n",
    "from __future__ import print_function\n",
    "\n",
    "import sys\n",
    "\n",
    "import numpy as np\n",
    "import pandas as pd\n",
    "import matplotlib as mpl\n",
    "import matplotlib.pyplot as plt\n",
    "%matplotlib inline\n",
    "\n",
    "from polara.recommender.data import RecommenderData\n",
    "from polara.recommender.models import SVDModel, CoffeeModel, PopularityModel, RandomModel\n",
    "from polara.evaluation import evaluation_engine as ee\n",
    "from polara.recommender.external.mymedialite.mmlwrapper import MyMediaLiteWrapper\n",
    "from polara.datasets.movielens import get_movielens_data\n",
    "from polara.tools.preprocessing import filter_sessions_by_length\n",
    "from polara.evaluation.plotting import show_hit_rates, show_precision_recall, show_ranking"
   ]
  },
  {
   "cell_type": "markdown",
   "metadata": {},
   "source": [
    "# Initialization"
   ]
  },
  {
   "cell_type": "markdown",
   "metadata": {},
   "source": [
    "## Constants"
   ]
  },
  {
   "cell_type": "markdown",
   "metadata": {},
   "source": [
    "### Dataset"
   ]
  },
  {
   "cell_type": "code",
   "execution_count": 21,
   "metadata": {
    "ExecuteTime": {
     "end_time": "2017-01-19T00:18:09.900000",
     "start_time": "2017-01-19T00:18:09.895000"
    }
   },
   "outputs": [],
   "source": [
    "DATA_NAME = 'ml-1m'\n",
    "DATA_FILE = None # '<path-to-zip-file>/{}.zip'.format(DATA_NAME)#path to Movielens-1M zip-file\n",
    "                                      #set it to None to automatically download data from Grouplens\n",
    "SESS_SIZE = 20"
   ]
  },
  {
   "cell_type": "markdown",
   "metadata": {},
   "source": [
    "### MyMediaLite"
   ]
  },
  {
   "cell_type": "code",
   "execution_count": 22,
   "metadata": {
    "ExecuteTime": {
     "end_time": "2017-01-19T00:18:10.726000",
     "start_time": "2017-01-19T00:18:10.721000"
    }
   },
   "outputs": [],
   "source": [
    "#set path to MyMediaLite binaries\n",
    "if sys.platform == 'win32':\n",
    "    LIB_PATH = 'MyMediaLite-3.11/lib/mymedialite' \n",
    "else:\n",
    "    LIB_PATH = 'MyMediaLite-3.11/bin'\n",
    "\n",
    "MML_DATA = 'MyMediaLiteData' #folder to store MyMediLite data (models, data mappings, etc.)\n",
    "                             # the folder must exist!"
   ]
  },
  {
   "cell_type": "markdown",
   "metadata": {},
   "source": [
    "## Prepare data"
   ]
  },
  {
   "cell_type": "code",
   "execution_count": 23,
   "metadata": {
    "ExecuteTime": {
     "end_time": "2017-01-19T00:18:14.527000",
     "start_time": "2017-01-19T00:18:13.948000"
    }
   },
   "outputs": [],
   "source": [
    "ml_data = get_movielens_data(local_file=DATA_FILE, get_genres=False)"
   ]
  },
  {
   "cell_type": "code",
   "execution_count": 24,
   "metadata": {
    "ExecuteTime": {
     "end_time": "2017-01-19T00:18:16.284000",
     "start_time": "2017-01-19T00:18:15.954000"
    }
   },
   "outputs": [],
   "source": [
    "ml_data = filter_sessions_by_length(ml_data)\n",
    "data_model = RecommenderData(ml_data, 'userid', 'movieid', 'rating')\n",
    "data_model.name = DATA_NAME\n",
    "data_model.seed = 0"
   ]
  },
  {
   "cell_type": "code",
   "execution_count": 25,
   "metadata": {},
   "outputs": [
    {
     "data": {
      "text/plain": [
       "{'shuffle_data': False,\n",
       " 'test_ratio': 0.2,\n",
       " 'holdout_size': 3,\n",
       " 'negative_prediction': False,\n",
       " 'test_sample': None,\n",
       " 'test_fold': 5,\n",
       " 'random_holdout': False,\n",
       " 'warm_start': True,\n",
       " 'permute_tops': False}"
      ]
     },
     "execution_count": 25,
     "metadata": {},
     "output_type": "execute_result"
    }
   ],
   "source": [
    "data_model.get_configuration()"
   ]
  },
  {
   "cell_type": "markdown",
   "metadata": {},
   "source": [
    "## Prepare models"
   ]
  },
  {
   "cell_type": "code",
   "execution_count": 26,
   "metadata": {
    "ExecuteTime": {
     "end_time": "2017-01-19T00:18:20.954000",
     "start_time": "2017-01-19T00:18:20.950000"
    }
   },
   "outputs": [],
   "source": [
    "# bpr = MyMediaLiteWrapper(LIB_PATH, MML_DATA, 'BPRMF', data_model)\n",
    "# wrmf = MyMediaLiteWrapper(LIB_PATH, MML_DATA, 'WRMF', data_model)\n",
    "svd = SVDModel(data_model)\n",
    "popular = PopularityModel(data_model)\n",
    "random = RandomModel(data_model, seed=0)\n",
    "coffee = CoffeeModel(data_model)"
   ]
  },
  {
   "cell_type": "code",
   "execution_count": 27,
   "metadata": {
    "ExecuteTime": {
     "end_time": "2017-01-19T00:19:37.710000",
     "start_time": "2017-01-19T00:19:37.707000"
    }
   },
   "outputs": [],
   "source": [
    "coffee.flattener = [3, 4] # ratings 4 and 5"
   ]
  },
  {
   "cell_type": "code",
   "execution_count": 28,
   "metadata": {
    "ExecuteTime": {
     "end_time": "2017-01-19T00:19:40.427000",
     "start_time": "2017-01-19T00:19:40.419000"
    }
   },
   "outputs": [
    {
     "data": {
      "text/plain": [
       "['PureSVD', 'CoFFee', 'MP', 'RND']"
      ]
     },
     "execution_count": 28,
     "metadata": {},
     "output_type": "execute_result"
    }
   ],
   "source": [
    "models = [svd, coffee, popular, random]\n",
    "model_names = [model.method for model in models]\n",
    "metrics = ['ranking', 'relevance']\n",
    "model_names"
   ]
  },
  {
   "cell_type": "code",
   "execution_count": 29,
   "metadata": {
    "ExecuteTime": {
     "end_time": "2017-01-19T00:19:41.991000",
     "start_time": "2017-01-19T00:19:41.987000"
    }
   },
   "outputs": [],
   "source": [
    "for model in models:\n",
    "    model.switch_positive = 4"
   ]
  },
  {
   "cell_type": "code",
   "execution_count": 30,
   "metadata": {
    "ExecuteTime": {
     "end_time": "2017-01-19T00:19:42.483000",
     "start_time": "2017-01-19T00:19:42.478000"
    }
   },
   "outputs": [
    {
     "name": "stdout",
     "output_type": "stream",
     "text": [
      "PureSVD 4\n",
      "CoFFee 4\n",
      "MP 4\n",
      "RND 4\n"
     ]
    }
   ],
   "source": [
    "for model in models:\n",
    "    print(model.method, model.switch_positive)"
   ]
  },
  {
   "cell_type": "code",
   "execution_count": 31,
   "metadata": {
    "ExecuteTime": {
     "end_time": "2017-01-19T00:19:43.197000",
     "start_time": "2017-01-19T00:19:43.191000"
    }
   },
   "outputs": [
    {
     "name": "stdout",
     "output_type": "stream",
     "text": [
      "PureSVD rank: 10\n",
      "CoFFee rank: (13, 10, 2)\n"
     ]
    }
   ],
   "source": [
    "for model in models:\n",
    "    try:\n",
    "        rank = model.rank\n",
    "    except AttributeError:\n",
    "        try:\n",
    "            rank = model.mlrank\n",
    "        except AttributeError:\n",
    "            continue\n",
    "    print('{} rank: {}'.format(model.method, rank))"
   ]
  },
  {
   "cell_type": "markdown",
   "metadata": {},
   "source": [
    "## Set evaluation parameters"
   ]
  },
  {
   "cell_type": "code",
   "execution_count": 32,
   "metadata": {
    "ExecuteTime": {
     "end_time": "2017-01-19T00:19:46.148000",
     "start_time": "2017-01-19T00:19:46.143000"
    }
   },
   "outputs": [],
   "source": [
    "topk_list = [1, 2, 3, 5, 10, 15, 20, 30, 50, 70, 100]\n",
    "test_samples = [0,]\n",
    "folds = [1, 2, 3, 4, 5]"
   ]
  },
  {
   "cell_type": "code",
   "execution_count": 33,
   "metadata": {
    "ExecuteTime": {
     "end_time": "2017-01-19T00:19:51.117000",
     "start_time": "2017-01-19T00:19:51.113000"
    }
   },
   "outputs": [],
   "source": [
    "data_model.holdout_size = 10\n",
    "data_model.random_holdout = True"
   ]
  },
  {
   "cell_type": "markdown",
   "metadata": {},
   "source": [
    "# Run experiments"
   ]
  },
  {
   "cell_type": "code",
   "execution_count": 34,
   "metadata": {
    "ExecuteTime": {
     "end_time": "2017-01-19T00:19:57.864000",
     "start_time": "2017-01-19T00:19:53.526000"
    },
    "scrolled": true
   },
   "outputs": [
    {
     "name": "stdout",
     "output_type": "stream",
     "text": [
      "\n",
      "\n",
      "========= Test sample: 0 =========\n",
      "\n",
      "\n",
      "============ Fold: 1 =============\n",
      "Preparing data...\n",
      "23 unique movieid's within 27 testset interactions were filtered. Reason: not in the training data.\n",
      "1 unique movieid's within 1 holdout interactions were filtered. Reason: not in the training data.\n",
      "1 of 1208 userid's were filtered out from holdout. Reason: incompatible number of items.\n",
      "1 userid's were filtered out from testset. Reason: inconsistent with holdout.\n",
      "Done.\n",
      "There are 803312 events in the training and 12070 events in the holdout.\n",
      "PureSVD training time: 0.09867268499999682s\n",
      "CoFFee training time: 0.9938772019999931s\n",
      "\n",
      "============ Fold: 2 =============\n",
      "Preparing data...\n",
      "47 unique movieid's within 56 testset interactions were filtered. Reason: not in the training data.\n",
      "2 unique movieid's within 2 holdout interactions were filtered. Reason: not in the training data.\n",
      "2 of 1208 userid's were filtered out from holdout. Reason: incompatible number of items.\n",
      "2 userid's were filtered out from testset. Reason: inconsistent with holdout.\n",
      "Done.\n",
      "There are 792890 events in the training and 12060 events in the holdout.\n",
      "PureSVD training time: 0.0967500669999879s\n",
      "CoFFee training time: 1.002889175000007s\n",
      "\n",
      "============ Fold: 3 =============\n",
      "Preparing data...\n",
      "16 unique movieid's within 18 testset interactions were filtered. Reason: not in the training data.\n",
      "4 unique movieid's within 4 holdout interactions were filtered. Reason: not in the training data.\n",
      "4 of 1208 userid's were filtered out from holdout. Reason: incompatible number of items.\n",
      "4 userid's were filtered out from testset. Reason: inconsistent with holdout.\n",
      "Done.\n",
      "There are 808443 events in the training and 12040 events in the holdout.\n",
      "PureSVD training time: 0.10375641100000621s\n",
      "CoFFee training time: 1.3803774799999928s\n",
      "\n",
      "============ Fold: 4 =============\n",
      "Preparing data...\n",
      "28 unique movieid's within 39 testset interactions were filtered. Reason: not in the training data.\n",
      "2 unique movieid's within 2 holdout interactions were filtered. Reason: not in the training data.\n",
      "2 of 1208 userid's were filtered out from holdout. Reason: incompatible number of items.\n",
      "2 userid's were filtered out from testset. Reason: inconsistent with holdout.\n",
      "Done.\n",
      "There are 788733 events in the training and 12060 events in the holdout.\n",
      "PureSVD training time: 0.1010581019999961s\n",
      "CoFFee training time: 1.1008441190000156s\n",
      "\n",
      "============ Fold: 5 =============\n",
      "Preparing data...\n",
      "18 unique movieid's within 25 testset interactions were filtered. Reason: not in the training data.\n",
      "2 unique movieid's within 2 holdout interactions were filtered. Reason: not in the training data.\n",
      "2 of 1208 userid's were filtered out from holdout. Reason: incompatible number of items.\n",
      "2 userid's were filtered out from testset. Reason: inconsistent with holdout.\n",
      "Done.\n",
      "There are 807458 events in the training and 12060 events in the holdout.\n",
      "PureSVD training time: 0.10247816599996895s\n",
      "CoFFee training time: 1.2779808649999609s\n"
     ]
    }
   ],
   "source": [
    "result = {}\n",
    "topk_result = {}\n",
    "for test_sample in test_samples:\n",
    "    data_model.test_sample = test_sample\n",
    "    print('\\n\\n========= Test sample: {} =========\\n'.format(test_sample))\n",
    "    for fold in folds:\n",
    "        print('\\n============ Fold: {} ============='.format(fold))\n",
    "        data_model.test_fold = fold\n",
    "        topk_result[fold] = ee.topk_test(models, topk_list=topk_list, metrics=metrics)\n",
    "    result[test_sample] = ee.consolidate_folds(topk_result, folds, metrics)"
   ]
  },
  {
   "cell_type": "code",
   "execution_count": 35,
   "metadata": {
    "ExecuteTime": {
     "end_time": "2017-01-19T00:19:57.868000",
     "start_time": "2017-01-18T21:19:57.512Z"
    }
   },
   "outputs": [],
   "source": [
    "test_sample = 0"
   ]
  },
  {
   "cell_type": "code",
   "execution_count": 36,
   "metadata": {},
   "outputs": [],
   "source": [
    "scores = {}\n",
    "deviation = {}\n",
    "scores['ranking'] = result[test_sample]['ranking'].mean(axis=0, level=1)\n",
    "deviation['ranking'] = result[test_sample]['ranking'].std(axis=0, level=1)\n",
    "scores['relevance'] = result[test_sample]['relevance'].mean(axis=0, level=1)\n",
    "deviation['relevance'] = result[test_sample]['relevance'].std(axis=0, level=1)"
   ]
  },
  {
   "cell_type": "markdown",
   "metadata": {},
   "source": [
    "# Visualize results"
   ]
  },
  {
   "cell_type": "code",
   "execution_count": 37,
   "metadata": {
    "ExecuteTime": {
     "end_time": "2017-01-19T00:18:13.045000",
     "start_time": "2017-01-19T00:18:13.042000"
    }
   },
   "outputs": [],
   "source": [
    "ERR_ALPHA = 0.1"
   ]
  },
  {
   "cell_type": "markdown",
   "metadata": {},
   "source": [
    "## Predictions for \"known\" user"
   ]
  },
  {
   "cell_type": "code",
   "execution_count": 38,
   "metadata": {},
   "outputs": [
    {
     "data": {
      "image/png": "[encoded data removed]",
      "text/plain": [
       "<Figure size 576x360 with 1 Axes>"
      ]
     },
     "metadata": {
      "needs_background": "light"
     },
     "output_type": "display_data"
    }
   ],
   "source": [
    "show_hit_rates(scores, errors=deviation, err_alpha=ERR_ALPHA)"
   ]
  },
  {
   "cell_type": "code",
   "execution_count": 39,
   "metadata": {},
   "outputs": [
    {
     "data": {
      "image/png": "[encoded data removed]",
      "text/plain": [
       "<Figure size 576x360 with 1 Axes>"
      ]
     },
     "metadata": {
      "needs_background": "light"
     },
     "output_type": "display_data"
    }
   ],
   "source": [
    "show_precision_recall(scores, errors=deviation, err_alpha=ERR_ALPHA)"
   ]
  },
  {
   "cell_type": "code",
   "execution_count": 40,
   "metadata": {},
   "outputs": [
    {
     "data": {
      "text/html": [
       "<div>\n",
       "<style scoped>\n",
       "    .dataframe tbody tr th:only-of-type {\n",
       "        vertical-align: middle;\n",
       "    }\n",
       "\n",
       "    .dataframe tbody tr th {\n",
       "        vertical-align: top;\n",
       "    }\n",
       "\n",
       "    .dataframe thead tr th {\n",
       "        text-align: left;\n",
       "    }\n",
       "\n",
       "    .dataframe thead tr:last-of-type th {\n",
       "        text-align: right;\n",
       "    }\n",
       "</style>\n",
       "<table border=\"1\" class=\"dataframe\">\n",
       "  <thead>\n",
       "    <tr>\n",
       "      <th></th>\n",
       "      <th>nDCG</th>\n",
       "      <th>nDCL</th>\n",
       "      <th>nDCG</th>\n",
       "      <th>nDCL</th>\n",
       "      <th>nDCG</th>\n",
       "      <th>nDCL</th>\n",
       "      <th>nDCG</th>\n",
       "      <th>nDCL</th>\n",
       "    </tr>\n",
       "    <tr>\n",
       "      <th></th>\n",
       "      <th>PureSVD</th>\n",
       "      <th>PureSVD</th>\n",
       "      <th>CoFFee</th>\n",
       "      <th>CoFFee</th>\n",
       "      <th>MP</th>\n",
       "      <th>MP</th>\n",
       "      <th>RND</th>\n",
       "      <th>RND</th>\n",
       "    </tr>\n",
       "    <tr>\n",
       "      <th>top-n</th>\n",
       "      <th></th>\n",
       "      <th></th>\n",
       "      <th></th>\n",
       "      <th></th>\n",
       "      <th></th>\n",
       "      <th></th>\n",
       "      <th></th>\n",
       "      <th></th>\n",
       "    </tr>\n",
       "  </thead>\n",
       "  <tbody>\n",
       "    <tr>\n",
       "      <th>1</th>\n",
       "      <td>0.077220</td>\n",
       "      <td>0.026973</td>\n",
       "      <td>0.068203</td>\n",
       "      <td>0.019546</td>\n",
       "      <td>0.034049</td>\n",
       "      <td>0.021976</td>\n",
       "      <td>0.000748</td>\n",
       "      <td>0.000193</td>\n",
       "    </tr>\n",
       "    <tr>\n",
       "      <th>2</th>\n",
       "      <td>0.111342</td>\n",
       "      <td>0.040239</td>\n",
       "      <td>0.096850</td>\n",
       "      <td>0.028996</td>\n",
       "      <td>0.049284</td>\n",
       "      <td>0.031109</td>\n",
       "      <td>0.001030</td>\n",
       "      <td>0.001238</td>\n",
       "    </tr>\n",
       "    <tr>\n",
       "      <th>3</th>\n",
       "      <td>0.132601</td>\n",
       "      <td>0.051971</td>\n",
       "      <td>0.115497</td>\n",
       "      <td>0.037049</td>\n",
       "      <td>0.057795</td>\n",
       "      <td>0.037549</td>\n",
       "      <td>0.001451</td>\n",
       "      <td>0.001715</td>\n",
       "    </tr>\n",
       "    <tr>\n",
       "      <th>5</th>\n",
       "      <td>0.159641</td>\n",
       "      <td>0.069481</td>\n",
       "      <td>0.141190</td>\n",
       "      <td>0.049761</td>\n",
       "      <td>0.070335</td>\n",
       "      <td>0.048499</td>\n",
       "      <td>0.001939</td>\n",
       "      <td>0.002293</td>\n",
       "    </tr>\n",
       "    <tr>\n",
       "      <th>10</th>\n",
       "      <td>0.197528</td>\n",
       "      <td>0.101178</td>\n",
       "      <td>0.176086</td>\n",
       "      <td>0.072387</td>\n",
       "      <td>0.091356</td>\n",
       "      <td>0.064922</td>\n",
       "      <td>0.002694</td>\n",
       "      <td>0.004084</td>\n",
       "    </tr>\n",
       "    <tr>\n",
       "      <th>15</th>\n",
       "      <td>0.219348</td>\n",
       "      <td>0.122217</td>\n",
       "      <td>0.196749</td>\n",
       "      <td>0.088765</td>\n",
       "      <td>0.105611</td>\n",
       "      <td>0.077387</td>\n",
       "      <td>0.003214</td>\n",
       "      <td>0.005132</td>\n",
       "    </tr>\n",
       "    <tr>\n",
       "      <th>20</th>\n",
       "      <td>0.234971</td>\n",
       "      <td>0.139544</td>\n",
       "      <td>0.211826</td>\n",
       "      <td>0.100189</td>\n",
       "      <td>0.116623</td>\n",
       "      <td>0.086674</td>\n",
       "      <td>0.003690</td>\n",
       "      <td>0.006186</td>\n",
       "    </tr>\n",
       "    <tr>\n",
       "      <th>30</th>\n",
       "      <td>0.256997</td>\n",
       "      <td>0.166981</td>\n",
       "      <td>0.233221</td>\n",
       "      <td>0.122447</td>\n",
       "      <td>0.130844</td>\n",
       "      <td>0.101282</td>\n",
       "      <td>0.004640</td>\n",
       "      <td>0.007817</td>\n",
       "    </tr>\n",
       "    <tr>\n",
       "      <th>50</th>\n",
       "      <td>0.284766</td>\n",
       "      <td>0.205027</td>\n",
       "      <td>0.260156</td>\n",
       "      <td>0.154688</td>\n",
       "      <td>0.151501</td>\n",
       "      <td>0.125126</td>\n",
       "      <td>0.006678</td>\n",
       "      <td>0.011605</td>\n",
       "    </tr>\n",
       "    <tr>\n",
       "      <th>70</th>\n",
       "      <td>0.302296</td>\n",
       "      <td>0.230614</td>\n",
       "      <td>0.277902</td>\n",
       "      <td>0.177622</td>\n",
       "      <td>0.164905</td>\n",
       "      <td>0.143222</td>\n",
       "      <td>0.008477</td>\n",
       "      <td>0.014034</td>\n",
       "    </tr>\n",
       "    <tr>\n",
       "      <th>100</th>\n",
       "      <td>0.319825</td>\n",
       "      <td>0.262407</td>\n",
       "      <td>0.295007</td>\n",
       "      <td>0.203518</td>\n",
       "      <td>0.180364</td>\n",
       "      <td>0.165874</td>\n",
       "      <td>0.010696</td>\n",
       "      <td>0.018255</td>\n",
       "    </tr>\n",
       "  </tbody>\n",
       "</table>\n",
       "</div>"
      ],
      "text/plain": [
       "           nDCG      nDCL      nDCG      nDCL      nDCG      nDCL      nDCG  \\\n",
       "        PureSVD   PureSVD    CoFFee    CoFFee        MP        MP       RND   \n",
       "top-n                                                                         \n",
       "1      0.077220  0.026973  0.068203  0.019546  0.034049  0.021976  0.000748   \n",
       "2      0.111342  0.040239  0.096850  0.028996  0.049284  0.031109  0.001030   \n",
       "3      0.132601  0.051971  0.115497  0.037049  0.057795  0.037549  0.001451   \n",
       "5      0.159641  0.069481  0.141190  0.049761  0.070335  0.048499  0.001939   \n",
       "10     0.197528  0.101178  0.176086  0.072387  0.091356  0.064922  0.002694   \n",
       "15     0.219348  0.122217  0.196749  0.088765  0.105611  0.077387  0.003214   \n",
       "20     0.234971  0.139544  0.211826  0.100189  0.116623  0.086674  0.003690   \n",
       "30     0.256997  0.166981  0.233221  0.122447  0.130844  0.101282  0.004640   \n",
       "50     0.284766  0.205027  0.260156  0.154688  0.151501  0.125126  0.006678   \n",
       "70     0.302296  0.230614  0.277902  0.177622  0.164905  0.143222  0.008477   \n",
       "100    0.319825  0.262407  0.295007  0.203518  0.180364  0.165874  0.010696   \n",
       "\n",
       "           nDCL  \n",
       "            RND  \n",
       "top-n            \n",
       "1      0.000193  \n",
       "2      0.001238  \n",
       "3      0.001715  \n",
       "5      0.002293  \n",
       "10     0.004084  \n",
       "15     0.005132  \n",
       "20     0.006186  \n",
       "30     0.007817  \n",
       "50     0.011605  \n",
       "70     0.014034  \n",
       "100    0.018255  "
      ]
     },
     "execution_count": 40,
     "metadata": {},
     "output_type": "execute_result"
    }
   ],
   "source": [
    "scores['ranking']"
   ]
  },
  {
   "cell_type": "code",
   "execution_count": 41,
   "metadata": {},
   "outputs": [
    {
     "data": {
      "image/png": "[encoded data removed]",
      "text/plain": [
       "<Figure size 1152x360 with 2 Axes>"
      ]
     },
     "metadata": {
      "needs_background": "light"
     },
     "output_type": "display_data"
    }
   ],
   "source": [
    "show_ranking(scores, errors=deviation, err_alpha=ERR_ALPHA)"
   ]
  },
  {
   "cell_type": "markdown",
   "metadata": {},
   "source": [
    "## Predictions from single negative feedback"
   ]
  },
  {
   "cell_type": "code",
   "execution_count": 42,
   "metadata": {},
   "outputs": [],
   "source": [
    "test_sample = -1"
   ]
  },
  {
   "cell_type": "code",
   "execution_count": 43,
   "metadata": {},
   "outputs": [
    {
     "ename": "KeyError",
     "evalue": "-1",
     "output_type": "error",
     "traceback": [
      "\u001b[0;31m---------------------------------------------------------------------------\u001b[0m",
      "\u001b[0;31mKeyError\u001b[0m                                  Traceback (most recent call last)",
      "\u001b[0;32m<ipython-input-43-8964e33aaf53>\u001b[0m in \u001b[0;36m<module>\u001b[0;34m\u001b[0m\n\u001b[1;32m      1\u001b[0m \u001b[0mscores\u001b[0m \u001b[0;34m=\u001b[0m \u001b[0;34m{\u001b[0m\u001b[0;34m}\u001b[0m\u001b[0;34m\u001b[0m\u001b[0;34m\u001b[0m\u001b[0m\n\u001b[1;32m      2\u001b[0m \u001b[0mdeviation\u001b[0m \u001b[0;34m=\u001b[0m \u001b[0;34m{\u001b[0m\u001b[0;34m}\u001b[0m\u001b[0;34m\u001b[0m\u001b[0;34m\u001b[0m\u001b[0m\n\u001b[0;32m----> 3\u001b[0;31m \u001b[0mscores\u001b[0m\u001b[0;34m[\u001b[0m\u001b[0;34m'ranking'\u001b[0m\u001b[0;34m]\u001b[0m \u001b[0;34m=\u001b[0m \u001b[0mresult\u001b[0m\u001b[0;34m[\u001b[0m\u001b[0mtest_sample\u001b[0m\u001b[0;34m]\u001b[0m\u001b[0;34m[\u001b[0m\u001b[0;34m'ranking'\u001b[0m\u001b[0;34m]\u001b[0m\u001b[0;34m.\u001b[0m\u001b[0mmean\u001b[0m\u001b[0;34m(\u001b[0m\u001b[0maxis\u001b[0m\u001b[0;34m=\u001b[0m\u001b[0;36m0\u001b[0m\u001b[0;34m,\u001b[0m \u001b[0mlevel\u001b[0m\u001b[0;34m=\u001b[0m\u001b[0;36m1\u001b[0m\u001b[0;34m)\u001b[0m\u001b[0;34m\u001b[0m\u001b[0;34m\u001b[0m\u001b[0m\n\u001b[0m\u001b[1;32m      4\u001b[0m \u001b[0mdeviation\u001b[0m\u001b[0;34m[\u001b[0m\u001b[0;34m'ranking'\u001b[0m\u001b[0;34m]\u001b[0m \u001b[0;34m=\u001b[0m \u001b[0mresult\u001b[0m\u001b[0;34m[\u001b[0m\u001b[0mtest_sample\u001b[0m\u001b[0;34m]\u001b[0m\u001b[0;34m[\u001b[0m\u001b[0;34m'ranking'\u001b[0m\u001b[0;34m]\u001b[0m\u001b[0;34m.\u001b[0m\u001b[0mstd\u001b[0m\u001b[0;34m(\u001b[0m\u001b[0maxis\u001b[0m\u001b[0;34m=\u001b[0m\u001b[0;36m0\u001b[0m\u001b[0;34m,\u001b[0m \u001b[0mlevel\u001b[0m\u001b[0;34m=\u001b[0m\u001b[0;36m1\u001b[0m\u001b[0;34m)\u001b[0m\u001b[0;34m\u001b[0m\u001b[0;34m\u001b[0m\u001b[0m\n\u001b[1;32m      5\u001b[0m \u001b[0mscores\u001b[0m\u001b[0;34m[\u001b[0m\u001b[0;34m'relevance'\u001b[0m\u001b[0;34m]\u001b[0m \u001b[0;34m=\u001b[0m \u001b[0mresult\u001b[0m\u001b[0;34m[\u001b[0m\u001b[0mtest_sample\u001b[0m\u001b[0;34m]\u001b[0m\u001b[0;34m[\u001b[0m\u001b[0;34m'relevance'\u001b[0m\u001b[0;34m]\u001b[0m\u001b[0;34m.\u001b[0m\u001b[0mmean\u001b[0m\u001b[0;34m(\u001b[0m\u001b[0maxis\u001b[0m\u001b[0;34m=\u001b[0m\u001b[0;36m0\u001b[0m\u001b[0;34m,\u001b[0m \u001b[0mlevel\u001b[0m\u001b[0;34m=\u001b[0m\u001b[0;36m1\u001b[0m\u001b[0;34m)\u001b[0m\u001b[0;34m\u001b[0m\u001b[0;34m\u001b[0m\u001b[0m\n",
      "\u001b[0;31mKeyError\u001b[0m: -1"
     ]
    }
   ],
   "source": [
    "scores = {}\n",
    "deviation = {}\n",
    "scores['ranking'] = result[test_sample]['ranking'].mean(axis=0, level=1)\n",
    "deviation['ranking'] = result[test_sample]['ranking'].std(axis=0, level=1)\n",
    "scores['relevance'] = result[test_sample]['relevance'].mean(axis=0, level=1)\n",
    "deviation['relevance'] = result[test_sample]['relevance'].std(axis=0, level=1)"
   ]
  },
  {
   "cell_type": "code",
   "execution_count": null,
   "metadata": {},
   "outputs": [],
   "source": [
    "show_hit_rates(scores, errors=deviation, err_alpha=ERR_ALPHA)"
   ]
  },
  {
   "cell_type": "code",
   "execution_count": null,
   "metadata": {},
   "outputs": [],
   "source": [
    "show_precision_recall(scores, errors=deviation, err_alpha=ERR_ALPHA)"
   ]
  },
  {
   "cell_type": "code",
   "execution_count": null,
   "metadata": {},
   "outputs": [],
   "source": [
    "show_ranking(scores, errors=deviation, err_alpha=ERR_ALPHA)"
   ]
  }
 ],
 "metadata": {
  "kernelspec": {
   "display_name": "Python 3",
   "language": "python",
   "name": "python3"
  },
  "language_info": {
   "codemirror_mode": {
    "name": "ipython",
    "version": 3
   },
   "file_extension": ".py",
   "mimetype": "text/x-python",
   "name": "python",
   "nbconvert_exporter": "python",
   "pygments_lexer": "ipython3",
   "version": "3.7.1"
  },
  "toc": {
   "nav_menu": {},
   "number_sections": true,
   "sideBar": true,
   "skip_h1_title": false,
   "title_cell": "Table of Contents",
   "title_sidebar": "Contents",
   "toc_cell": false,
   "toc_position": {},
   "toc_section_display": "block",
   "toc_window_display": false
  }
 },
 "nbformat": 4,
 "nbformat_minor": 1
}
