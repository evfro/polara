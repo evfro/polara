{
 "cells": [
  {
   "cell_type": "code",
   "execution_count": 1,
   "metadata": {},
   "outputs": [],
   "source": [
    "from polara import get_movielens_data, RecommenderData\n",
    "from polara.recommender.models import CoffeeModel\n",
    "from polara.lib.earlystopping import early_stopping_callback, evaluator"
   ]
  },
  {
   "cell_type": "code",
   "execution_count": 2,
   "metadata": {},
   "outputs": [],
   "source": [
    "mldata = get_movielens_data(include_time=True)"
   ]
  },
  {
   "cell_type": "code",
   "execution_count": 3,
   "metadata": {},
   "outputs": [
    {
     "name": "stdout",
     "output_type": "stream",
     "text": [
      "Preparing data...\n",
      "19 unique movieid entities within 27 testset interactions were filtered. Reason: not in the training data.\n",
      "Done.\n",
      "There are 807458 events in the training and 1208 events in the holdout.\n"
     ]
    }
   ],
   "source": [
    "experiment_config = dict(\n",
    "    holdout_size = 1,\n",
    "    random_holdout = False,\n",
    "    test_ratio = 0.2,\n",
    "    warm_start = True\n",
    ")\n",
    "data = RecommenderData(mldata, 'userid', 'movieid', 'rating', custom_order='timestamp', config=experiment_config)\n",
    "data.prepare()"
   ]
  },
  {
   "cell_type": "code",
   "execution_count": 4,
   "metadata": {},
   "outputs": [],
   "source": [
    "model = CoffeeModel(data)\n",
    "model.seed = 99\n",
    "model.verbose = True"
   ]
  },
  {
   "cell_type": "code",
   "execution_count": 5,
   "metadata": {},
   "outputs": [
    {
     "name": "stdout",
     "output_type": "stream",
     "text": [
      "Step 0 metric score: 0.059602649006622516\n",
      "Step 1 metric score: 0.07201986754966887\n",
      "Step 2 metric score: 0.07367549668874172\n",
      "Step 3 metric score: 0.0728476821192053\n",
      "Step 4 metric score: 0.07367549668874172\n",
      "Step 5 metric score: 0.07533112582781457\n",
      "Step 6 metric score: 0.07450331125827815\n",
      "Step 7 metric score: 0.076158940397351\n",
      "Step 8 metric score: 0.07698675496688742\n",
      "Step 9 metric score: 0.07201986754966887\n",
      "Step 10 metric score: 0.07367549668874172\n",
      "Step 11 metric score: 0.07533112582781457\n",
      "Metric no longer improves. Best score 0.07698675496688742, attained in 9 iterations.\n",
      "Done\n",
      "CoFFee training time: 7.688s\n"
     ]
    }
   ],
   "source": [
    "model.iter_callback = early_stopping_callback(evaluator(model, 'hr'), margin=0, max_fails=3)\n",
    "model.build()"
   ]
  },
  {
   "cell_type": "code",
   "execution_count": 6,
   "metadata": {},
   "outputs": [
    {
     "data": {
      "text/plain": [
       "(8, 0.07698675496688742, 'Stopping criteria met.')"
      ]
     },
     "execution_count": 6,
     "metadata": {},
     "output_type": "execute_result"
    }
   ],
   "source": [
    "model.iter_callback.iter, model.iter_callback.target, model.iter_callback.stop_reason"
   ]
  },
  {
   "cell_type": "code",
   "execution_count": null,
   "metadata": {},
   "outputs": [],
   "source": []
  }
 ],
 "metadata": {
  "interpreter": {
   "hash": "a217029602e685eff9d4c4695788fb2d6fa824043a2f7919e2a5a2be7c55d9f9"
  },
  "kernelspec": {
   "display_name": "Python 3.9.7 ('polara_dev')",
   "language": "python",
   "name": "python3"
  },
  "language_info": {
   "codemirror_mode": {
    "name": "ipython",
    "version": 3
   },
   "file_extension": ".py",
   "mimetype": "text/x-python",
   "name": "python",
   "nbconvert_exporter": "python",
   "pygments_lexer": "ipython3",
   "version": "3.9.7"
  },
  "orig_nbformat": 4
 },
 "nbformat": 4,
 "nbformat_minor": 2
}
